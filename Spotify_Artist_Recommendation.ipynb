{
 "cells": [
  {
   "cell_type": "code",
   "execution_count": 1,
   "metadata": {},
   "outputs": [],
   "source": [
    "import pandas as pd\n",
    "import numpy as np"
   ]
  },
  {
   "cell_type": "markdown",
   "metadata": {},
   "source": [
    "# Data Gathering and Filtering"
   ]
  },
  {
   "cell_type": "code",
   "execution_count": 2,
   "metadata": {},
   "outputs": [],
   "source": [
    "artist_data = pd.read_csv('C:/Users/themysterious07/Downloads/Spotify Project/MusicArtist_Spotify2018.csv')"
   ]
  },
  {
   "cell_type": "code",
   "execution_count": 3,
   "metadata": {},
   "outputs": [
    {
     "data": {
      "text/html": [
       "<div>\n",
       "<style scoped>\n",
       "    .dataframe tbody tr th:only-of-type {\n",
       "        vertical-align: middle;\n",
       "    }\n",
       "\n",
       "    .dataframe tbody tr th {\n",
       "        vertical-align: top;\n",
       "    }\n",
       "\n",
       "    .dataframe thead th {\n",
       "        text-align: right;\n",
       "    }\n",
       "</style>\n",
       "<table border=\"1\" class=\"dataframe\">\n",
       "  <thead>\n",
       "    <tr style=\"text-align: right;\">\n",
       "      <th></th>\n",
       "      <th>Artist</th>\n",
       "      <th>Genre</th>\n",
       "      <th>Sub-Genre</th>\n",
       "      <th>Followers</th>\n",
       "      <th>Popularity</th>\n",
       "    </tr>\n",
       "  </thead>\n",
       "  <tbody>\n",
       "    <tr>\n",
       "      <th>0</th>\n",
       "      <td>2NE1</td>\n",
       "      <td>Pop</td>\n",
       "      <td>Dance Pop</td>\n",
       "      <td>1,118,731</td>\n",
       "      <td>63</td>\n",
       "    </tr>\n",
       "    <tr>\n",
       "      <th>1</th>\n",
       "      <td>14 Bis</td>\n",
       "      <td>Other</td>\n",
       "      <td>Mpb</td>\n",
       "      <td>129,166</td>\n",
       "      <td>46</td>\n",
       "    </tr>\n",
       "    <tr>\n",
       "      <th>2</th>\n",
       "      <td>1976</td>\n",
       "      <td>Other</td>\n",
       "      <td>Chinese Indie</td>\n",
       "      <td>8,553</td>\n",
       "      <td>31</td>\n",
       "    </tr>\n",
       "    <tr>\n",
       "      <th>3</th>\n",
       "      <td>\"Weird Al\" Yankovic</td>\n",
       "      <td>Pop</td>\n",
       "      <td>Antiviral Pop</td>\n",
       "      <td>379,346</td>\n",
       "      <td>60</td>\n",
       "    </tr>\n",
       "    <tr>\n",
       "      <th>4</th>\n",
       "      <td>A Turma Do Balão Mágico</td>\n",
       "      <td>Other</td>\n",
       "      <td>Musica Infantil</td>\n",
       "      <td>33,693</td>\n",
       "      <td>46</td>\n",
       "    </tr>\n",
       "  </tbody>\n",
       "</table>\n",
       "</div>"
      ],
      "text/plain": [
       "                    Artist  Genre        Sub-Genre  Followers  Popularity\n",
       "0                     2NE1    Pop        Dance Pop  1,118,731          63\n",
       "1                   14 Bis  Other              Mpb    129,166          46\n",
       "2                     1976  Other    Chinese Indie      8,553          31\n",
       "3      \"Weird Al\" Yankovic    Pop    Antiviral Pop    379,346          60\n",
       "4  A Turma Do Balão Mágico  Other  Musica Infantil     33,693          46"
      ]
     },
     "execution_count": 3,
     "metadata": {},
     "output_type": "execute_result"
    }
   ],
   "source": [
    "artist_data.head()"
   ]
  },
  {
   "cell_type": "code",
   "execution_count": 4,
   "metadata": {},
   "outputs": [],
   "source": [
    "artist_data = artist_data[['Artist','Genre','Sub-Genre','Followers','Popularity']]"
   ]
  },
  {
   "cell_type": "code",
   "execution_count": 5,
   "metadata": {},
   "outputs": [
    {
     "data": {
      "text/html": [
       "<div>\n",
       "<style scoped>\n",
       "    .dataframe tbody tr th:only-of-type {\n",
       "        vertical-align: middle;\n",
       "    }\n",
       "\n",
       "    .dataframe tbody tr th {\n",
       "        vertical-align: top;\n",
       "    }\n",
       "\n",
       "    .dataframe thead th {\n",
       "        text-align: right;\n",
       "    }\n",
       "</style>\n",
       "<table border=\"1\" class=\"dataframe\">\n",
       "  <thead>\n",
       "    <tr style=\"text-align: right;\">\n",
       "      <th></th>\n",
       "      <th>Artist</th>\n",
       "      <th>Genre</th>\n",
       "      <th>Sub-Genre</th>\n",
       "      <th>Followers</th>\n",
       "      <th>Popularity</th>\n",
       "    </tr>\n",
       "  </thead>\n",
       "  <tbody>\n",
       "    <tr>\n",
       "      <th>0</th>\n",
       "      <td>2NE1</td>\n",
       "      <td>Pop</td>\n",
       "      <td>Dance Pop</td>\n",
       "      <td>1,118,731</td>\n",
       "      <td>63</td>\n",
       "    </tr>\n",
       "    <tr>\n",
       "      <th>1</th>\n",
       "      <td>14 Bis</td>\n",
       "      <td>Other</td>\n",
       "      <td>Mpb</td>\n",
       "      <td>129,166</td>\n",
       "      <td>46</td>\n",
       "    </tr>\n",
       "    <tr>\n",
       "      <th>2</th>\n",
       "      <td>1976</td>\n",
       "      <td>Other</td>\n",
       "      <td>Chinese Indie</td>\n",
       "      <td>8,553</td>\n",
       "      <td>31</td>\n",
       "    </tr>\n",
       "    <tr>\n",
       "      <th>3</th>\n",
       "      <td>\"Weird Al\" Yankovic</td>\n",
       "      <td>Pop</td>\n",
       "      <td>Antiviral Pop</td>\n",
       "      <td>379,346</td>\n",
       "      <td>60</td>\n",
       "    </tr>\n",
       "    <tr>\n",
       "      <th>4</th>\n",
       "      <td>A Turma Do Balão Mágico</td>\n",
       "      <td>Other</td>\n",
       "      <td>Musica Infantil</td>\n",
       "      <td>33,693</td>\n",
       "      <td>46</td>\n",
       "    </tr>\n",
       "  </tbody>\n",
       "</table>\n",
       "</div>"
      ],
      "text/plain": [
       "                    Artist  Genre        Sub-Genre  Followers  Popularity\n",
       "0                     2NE1    Pop        Dance Pop  1,118,731          63\n",
       "1                   14 Bis  Other              Mpb    129,166          46\n",
       "2                     1976  Other    Chinese Indie      8,553          31\n",
       "3      \"Weird Al\" Yankovic    Pop    Antiviral Pop    379,346          60\n",
       "4  A Turma Do Balão Mágico  Other  Musica Infantil     33,693          46"
      ]
     },
     "execution_count": 5,
     "metadata": {},
     "output_type": "execute_result"
    }
   ],
   "source": [
    "artist_data.head()"
   ]
  },
  {
   "cell_type": "code",
   "execution_count": 6,
   "metadata": {},
   "outputs": [
    {
     "data": {
      "text/html": [
       "<div>\n",
       "<style scoped>\n",
       "    .dataframe tbody tr th:only-of-type {\n",
       "        vertical-align: middle;\n",
       "    }\n",
       "\n",
       "    .dataframe tbody tr th {\n",
       "        vertical-align: top;\n",
       "    }\n",
       "\n",
       "    .dataframe thead th {\n",
       "        text-align: right;\n",
       "    }\n",
       "</style>\n",
       "<table border=\"1\" class=\"dataframe\">\n",
       "  <thead>\n",
       "    <tr style=\"text-align: right;\">\n",
       "      <th></th>\n",
       "      <th>Artist</th>\n",
       "      <th>Genre</th>\n",
       "      <th>Sub-Genre</th>\n",
       "      <th>Followers</th>\n",
       "      <th>Popularity</th>\n",
       "    </tr>\n",
       "  </thead>\n",
       "  <tbody>\n",
       "    <tr>\n",
       "      <th>687</th>\n",
       "      <td>Zarema</td>\n",
       "      <td>Pop</td>\n",
       "      <td>Deep Turkish Pop</td>\n",
       "      <td>29</td>\n",
       "      <td>16</td>\n",
       "    </tr>\n",
       "    <tr>\n",
       "      <th>688</th>\n",
       "      <td>ZAYN</td>\n",
       "      <td>Pop</td>\n",
       "      <td>Dance Pop</td>\n",
       "      <td>7,500,974</td>\n",
       "      <td>83</td>\n",
       "    </tr>\n",
       "    <tr>\n",
       "      <th>689</th>\n",
       "      <td>Zé Ramalho</td>\n",
       "      <td>Rock</td>\n",
       "      <td>Brazilian Rock</td>\n",
       "      <td>751,023</td>\n",
       "      <td>65</td>\n",
       "    </tr>\n",
       "    <tr>\n",
       "      <th>690</th>\n",
       "      <td>Zendaya</td>\n",
       "      <td>Pop</td>\n",
       "      <td>Dance Pop</td>\n",
       "      <td>2,243,059</td>\n",
       "      <td>76</td>\n",
       "    </tr>\n",
       "    <tr>\n",
       "      <th>691</th>\n",
       "      <td>Zezé Di Camargo &amp; Luciano</td>\n",
       "      <td>Other</td>\n",
       "      <td>Axe</td>\n",
       "      <td>871,551</td>\n",
       "      <td>65</td>\n",
       "    </tr>\n",
       "  </tbody>\n",
       "</table>\n",
       "</div>"
      ],
      "text/plain": [
       "                        Artist  Genre         Sub-Genre  Followers  Popularity\n",
       "687                     Zarema    Pop  Deep Turkish Pop         29          16\n",
       "688                       ZAYN    Pop         Dance Pop  7,500,974          83\n",
       "689                 Zé Ramalho   Rock    Brazilian Rock    751,023          65\n",
       "690                    Zendaya    Pop         Dance Pop  2,243,059          76\n",
       "691  Zezé Di Camargo & Luciano  Other               Axe    871,551          65"
      ]
     },
     "execution_count": 6,
     "metadata": {},
     "output_type": "execute_result"
    }
   ],
   "source": [
    "artist_data.tail()"
   ]
  },
  {
   "cell_type": "code",
   "execution_count": 7,
   "metadata": {},
   "outputs": [],
   "source": [
    "artist_data['recommend_solver'] = artist_data['Genre']+' '+artist_data['Sub-Genre']"
   ]
  },
  {
   "cell_type": "code",
   "execution_count": 8,
   "metadata": {},
   "outputs": [],
   "source": [
    "artist_data.drop(['Genre','Sub-Genre'], axis=1,inplace=True)"
   ]
  },
  {
   "cell_type": "code",
   "execution_count": 9,
   "metadata": {},
   "outputs": [],
   "source": [
    "artist_data.set_index('Artist',inplace=True)"
   ]
  },
  {
   "cell_type": "code",
   "execution_count": 10,
   "metadata": {},
   "outputs": [
    {
     "data": {
      "text/html": [
       "<div>\n",
       "<style scoped>\n",
       "    .dataframe tbody tr th:only-of-type {\n",
       "        vertical-align: middle;\n",
       "    }\n",
       "\n",
       "    .dataframe tbody tr th {\n",
       "        vertical-align: top;\n",
       "    }\n",
       "\n",
       "    .dataframe thead th {\n",
       "        text-align: right;\n",
       "    }\n",
       "</style>\n",
       "<table border=\"1\" class=\"dataframe\">\n",
       "  <thead>\n",
       "    <tr style=\"text-align: right;\">\n",
       "      <th></th>\n",
       "      <th>Followers</th>\n",
       "      <th>Popularity</th>\n",
       "      <th>recommend_solver</th>\n",
       "    </tr>\n",
       "    <tr>\n",
       "      <th>Artist</th>\n",
       "      <th></th>\n",
       "      <th></th>\n",
       "      <th></th>\n",
       "    </tr>\n",
       "  </thead>\n",
       "  <tbody>\n",
       "    <tr>\n",
       "      <th>2NE1</th>\n",
       "      <td>1,118,731</td>\n",
       "      <td>63</td>\n",
       "      <td>Pop Dance Pop</td>\n",
       "    </tr>\n",
       "    <tr>\n",
       "      <th>14 Bis</th>\n",
       "      <td>129,166</td>\n",
       "      <td>46</td>\n",
       "      <td>Other Mpb</td>\n",
       "    </tr>\n",
       "    <tr>\n",
       "      <th>1976</th>\n",
       "      <td>8,553</td>\n",
       "      <td>31</td>\n",
       "      <td>Other Chinese Indie</td>\n",
       "    </tr>\n",
       "    <tr>\n",
       "      <th>\"Weird Al\" Yankovic</th>\n",
       "      <td>379,346</td>\n",
       "      <td>60</td>\n",
       "      <td>Pop Antiviral Pop</td>\n",
       "    </tr>\n",
       "    <tr>\n",
       "      <th>A Turma Do Balão Mágico</th>\n",
       "      <td>33,693</td>\n",
       "      <td>46</td>\n",
       "      <td>Other Musica Infantil</td>\n",
       "    </tr>\n",
       "  </tbody>\n",
       "</table>\n",
       "</div>"
      ],
      "text/plain": [
       "                         Followers  Popularity       recommend_solver\n",
       "Artist                                                               \n",
       "2NE1                     1,118,731          63          Pop Dance Pop\n",
       "14 Bis                     129,166          46              Other Mpb\n",
       "1976                         8,553          31    Other Chinese Indie\n",
       "\"Weird Al\" Yankovic        379,346          60      Pop Antiviral Pop\n",
       "A Turma Do Balão Mágico     33,693          46  Other Musica Infantil"
      ]
     },
     "execution_count": 10,
     "metadata": {},
     "output_type": "execute_result"
    }
   ],
   "source": [
    "artist_data.head()"
   ]
  },
  {
   "cell_type": "markdown",
   "metadata": {},
   "source": [
    "# Now the Data is ready to apply NLP to it."
   ]
  },
  {
   "cell_type": "code",
   "execution_count": 11,
   "metadata": {},
   "outputs": [],
   "source": [
    "from sklearn.feature_extraction.text import CountVectorizer\n",
    "from sklearn.metrics.pairwise import cosine_similarity"
   ]
  },
  {
   "cell_type": "code",
   "execution_count": 12,
   "metadata": {},
   "outputs": [],
   "source": [
    "count = CountVectorizer()"
   ]
  },
  {
   "cell_type": "code",
   "execution_count": 13,
   "metadata": {},
   "outputs": [],
   "source": [
    "count_matrix = count.fit_transform(artist_data['recommend_solver'])"
   ]
  },
  {
   "cell_type": "code",
   "execution_count": 14,
   "metadata": {},
   "outputs": [],
   "source": [
    "cosine_sim = cosine_similarity(count_matrix,count_matrix)"
   ]
  },
  {
   "cell_type": "markdown",
   "metadata": {},
   "source": [
    "# Creating the Recomendation Model"
   ]
  },
  {
   "cell_type": "code",
   "execution_count": 15,
   "metadata": {},
   "outputs": [],
   "source": [
    "def artist_recomender(Artist, cosine_sim = cosine_sim):\n",
    "    recomended_artist = []\n",
    "    indices = pd.Series(artist_data.index)\n",
    "    idx = indices[indices == Artist].index[0]\n",
    "    recomend = pd.Series(cosine_sim[idx]).sort_values(ascending = False)\n",
    "    recomend = recomend[1:11]\n",
    "    top_10_index = recomend.index\n",
    "    for i in top_10_index:\n",
    "        recomended_artist.append(list(artist_data.index)[i])\n",
    "    return recomended_artist"
   ]
  },
  {
   "cell_type": "code",
   "execution_count": 16,
   "metadata": {},
   "outputs": [
    {
     "data": {
      "text/plain": [
       "['Preme',\n",
       " 'Metro Boomin',\n",
       " 'Wiz Khalifa',\n",
       " 'Tyler, The Creator',\n",
       " 'Ty Dolla $ign',\n",
       " 'SZA',\n",
       " 'Lil Jon & The East Side Boyz',\n",
       " 'Gorillaz',\n",
       " 'Aron Can',\n",
       " 'OJ Da Juiceman']"
      ]
     },
     "execution_count": 16,
     "metadata": {},
     "output_type": "execute_result"
    }
   ],
   "source": [
    "# Artist similar to:\n",
    "artist_recomender(Artist='Drake')"
   ]
  },
  {
   "cell_type": "code",
   "execution_count": 17,
   "metadata": {},
   "outputs": [],
   "source": [
    "def spotify_artist_recommender():\n",
    "    print('Welcome to Spotify Artist Recommender')\n",
    "    print('Enter any Artist from the Spotify 2018 List')\n",
    "    artist_similar = input()\n",
    "    result = artist_recomender(artist_similar)\n",
    "    print('\\nBecause you listen to:', artist_similar)\n",
    "    print('\\nYour artist recommendation should be:\\n\\n',result)"
   ]
  },
  {
   "cell_type": "code",
   "execution_count": 18,
   "metadata": {},
   "outputs": [
    {
     "name": "stdout",
     "output_type": "stream",
     "text": [
      "Welcome to Spotify Artist Recommender\n",
      "Enter any Artist from the Spotify 2018 List\n",
      "Taylor Swift\n",
      "\n",
      "Because you listen to: Taylor Swift\n",
      "\n",
      "Your artist recommendation should be:\n",
      "\n",
      " ['Cyndi Lauper', 'Christina Aguilera', 'Ciara', 'Omarion', 'Olly Murs', 'Harry Styles', 'Nicki Minaj', 'Niall Horan', 'Natasha Bedingfield', 'David Guetta']\n"
     ]
    }
   ],
   "source": [
    "spotify_artist_recommender()"
   ]
  }
 ],
 "metadata": {
  "kernelspec": {
   "display_name": "Python 3",
   "language": "python",
   "name": "python3"
  },
  "language_info": {
   "codemirror_mode": {
    "name": "ipython",
    "version": 3
   },
   "file_extension": ".py",
   "mimetype": "text/x-python",
   "name": "python",
   "nbconvert_exporter": "python",
   "pygments_lexer": "ipython3",
   "version": "3.7.3"
  }
 },
 "nbformat": 4,
 "nbformat_minor": 2
}
